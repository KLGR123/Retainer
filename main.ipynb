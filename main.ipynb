{
 "cells": [
  {
   "cell_type": "code",
   "execution_count": 7,
   "metadata": {},
   "outputs": [
    {
     "data": {
      "text/plain": [
       "{'mode': 0,\n",
       " 'plan': {'游戏策划': {'游戏玩法': '俄罗斯方块（Tetris）的游戏玩法基本如下：游戏目标：玩家的目标是在一个矩形的游戏区域内，通过旋转和移动不同形状的方块，使这些方块在底部形成完整的横行。当一行被填满时，该行会消失，玩家获得分数。游戏继续进行，方块下落的速度会逐渐加快。游戏结束的条件是方块堆积到游戏区域的顶部，此时没有空间再放置新的方块。方块形状：游戏中共有七种不同形状的方块，每种方块由四个小方块组成，它们分别是：I, O, T, S, Z, J, L。方块操作：下落：方块会从游戏区域的顶部开始向下移动，玩家无法停止或加速这个下落过程。旋转：玩家可以按特定按钮使方块顺时针旋转90度。左右移动：玩家可以使用左右方向键移动方块，使其在水平方向上移动。快速下落：玩家可以按特定按钮（通常是向下方向键或空格键）使方块快速下落到当前可到达的最低位置。消除行：当一行被完全填满时，该行会被消除，玩家获得分数，并且上面的所有行都会下移一格。同时消除多行会获得更高的分数。得分：每消除一行，玩家获得一定的分数。消除多行可以获得额外的分数奖励。随着游戏进行，方块下落速度加快，玩家获得的分数也会更高。游戏结束：如果新的方块无法进入游戏区域，游戏结束。玩家可以看到自己的最终得分，并且可以选择重新开始游戏。俄罗斯方块是一个简单但极具挑战性的游戏，它考验玩家的空间想象力、反应速度和策略规划能力。通过不断练习，玩家可以提高自己的游戏技巧和得分。'}},\n",
       " 'response': None}"
      ]
     },
     "execution_count": 7,
     "metadata": {},
     "output_type": "execute_result"
    }
   ],
   "source": [
    "from modules.pipelines import PlanPipeline\n",
    "\n",
    "plan_pipeline = PlanPipeline()\n",
    "out = plan_pipeline.step(\"我想做一个俄罗斯方块游戏\")\n",
    "out"
   ]
  },
  {
   "cell_type": "code",
   "execution_count": 2,
   "metadata": {},
   "outputs": [
    {
     "data": {
      "text/plain": [
       "{'mode': 1,\n",
       " 'plan': {'游戏策划': {'游戏玩法': '俄罗斯方块（Tetris）的游戏玩法基本如下：游戏目标：玩家的目标是在一个矩形的游戏区域内，通过旋转和移动不同形状的方块，使这些方块在底部形成完整的横行。当一行被填满时，该行会消失，玩家获得分数。游戏继续进行，方块下落的速度会逐渐加快。游戏结束的条件是方块堆积到游戏区域的顶部，此时没有空间再放置新的方块。方块形状：游戏中共有七种不同形状的方块，每种方块由四个小方块组成，它们分别是：I, O, T, S, Z, J, L。方块操作：下落：方块会从游戏区域的顶部开始向下移动，玩家无法停止或加速这个下落过程。旋转：玩家可以按特定按钮使方块顺时针旋转90度。左右移动：玩家可以使用左右方向键移动方块，使其在水平方向上移动。快速下落：玩家可以按特定按钮（通常是向下方向键或空格键）使方块快速下落到当前可到达的最低位置。消除行：当一行被完全填满时，该行会被消除，玩家获得分数，并且上面的所有行都会下移一格。同时消除多行会获得更高的分数。得分：每消除一行，玩家获得一定的分数。消除多行可以获得额外的分数奖励。随着游戏进行，方块下落速度加快，玩家获得的分数也会更高。游戏结束：如果新的方块无法进入游戏区域，游戏结束。玩家可以看到自己的最终得分，并且可以选择重新开始游戏。俄罗斯方块是一个简单但极具挑战性的游戏，它考验玩家的空间想象力、反应速度和策略规划能力。通过不断练习，玩家可以提高自己的游戏技巧和得分。'}},\n",
       " 'response': '当前的游戏策划已经非常完整，涵盖了游戏的基本玩法、目标、操作方式、得分机制和游戏结束条件等重要元素。如果你有任何想要修改或添加的想法，或者需要进一步细化某些方面，请告诉我，我将帮助你进行调整和完善。'}"
      ]
     },
     "execution_count": 2,
     "metadata": {},
     "output_type": "execute_result"
    }
   ],
   "source": [
    "out = plan_pipeline.step(\"当前游戏策划怎么样？\")\n",
    "out"
   ]
  },
  {
   "cell_type": "code",
   "execution_count": 3,
   "metadata": {},
   "outputs": [
    {
     "data": {
      "text/plain": [
       "[{'role': 'system',\n",
       "  'content': '你是一个专业的辅助用户实现 HTML5 游戏开发的游戏策划师。你应当礼貌地拒绝任何与游戏开发无关的交流。\\n\\n你的用户通常是一些初学者，他们希望使用 HTML5 进行游戏开发。他们对脑中期望游戏的描述通常是比较抽象的想法，而不是具体的游戏细节。你需要根据你的专业知识，发挥充分的想象力，将用户的抽象想法细化成具体的游戏玩法。其内容是对游戏策划案的详细描述。确保游戏策划的一致性，不要遗漏。\\n\\n如果用户提出了游戏策划的生成想法、修改意见，说明此时应当修改游戏策划；如果用户在与你交流沟通、询问建议等，说明此时应当先回答用户。\\n\\n如下是三个例子。\\n\\n#### 示例 1\\n- 用户的想法：我想要一个玩家控制小鸟飞行并躲避柱子的游戏，类似 Flappy Bird。\\n- **游戏策划**\\n```json\\n{\\n    \"游戏玩法\": \"玩家点击屏幕触发小鸟飞起，否则小鸟下落。场景中会有连续不断的上下两根柱子向小鸟移动，玩家需要控制小鸟通过两根柱子之间的空隙，否则游戏结束。\"\\n}\\n```\\n\\n#### 示例 2\\n- 用户的想法：你觉得一个玩家控制钩爪，抓取物品的游戏怎么样？物品可以是金矿，石头，钻石。\\n- **游戏策划**\\n```json\\n{\\n    \"游戏玩法\": \"玩家点击屏幕触发左右钟式摇摆的钩爪，抛出钩爪向前飞出直到触碰到物品，将物品抓回并按照物品类型结算效果，游戏倒计时结束则游戏结束，积分数量决定是否进入下一关。物品分为金矿，个体大小不一，获得正常积分且抓回速度正常；石头，个体大，获得少量积分且抓回速度缓慢；钻石，个体小，获得大量积分且抓回速度快。\",\\n}\\n```\\n\\n#### 示例 3\\n- 用户的想法：做一个俄罗斯方块游戏。\\n- **游戏策划**\\n```json\\n{\\n    \"游戏玩法\": \"俄罗斯方块（Tetris）的游戏玩法基本如下：游戏目标：玩家的目标是在一个矩形的游戏区域内，通过旋转和移动不同形状的方块，使这些方块在底部形成完整的横行。当一行被填满时，该行会消失，玩家获得分数。游戏继续进行，方块下落的速度会逐渐加快。游戏结束的条件是方块堆积到游戏区域的顶部，此时没有空间再放置新的方块。方块形状：游戏中共有七种不同形状的方块，每种方块由四个小方块组成，它们分别是：I, O, T, S, Z, J, L。方块操作：下落：方块会从游戏区域的顶部开始向下移动，玩家无法停止或加速这个下落过程。旋转：玩家可以按特定按钮使方块顺时针旋转90度。左右移动：玩家可以使用左右方向键移动方块，使其在水平方向上移动。快速下落：玩家可以按特定按钮（通常是向下方向键或空格键）使方块快速下落到当前可到达的最低位置。消除行：当一行被完全填满时，该行会被消除，玩家获得分数，并且上面的所有行都会下移一格。同时消除多行会获得更高的分数。得分：每消除一行，玩家获得一定的分数。消除多行可以获得额外的分数奖励。随着游戏进行，方块下落速度加快，玩家获得的分数也会更高。游戏结束：如果新的方块无法进入游戏区域，游戏结束。玩家可以看到自己的最终得分，并且可以选择重新开始游戏。俄罗斯方块是一个简单但极具挑战性的游戏，它考验玩家的空间想象力、反应速度和策略规划能力。通过不断练习，玩家可以提高自己的游戏技巧和得分。\"\\n}\\n```\\n\\n注意，当用户提出一个新的策划想法时，除了修改游戏玩法外，可能还需要对应地修改代码、美术素材。请仔细思考，不要遗漏。',\n",
       "  'tokens': 1518},\n",
       " {'role': 'user', 'content': '我想做一个俄罗斯方块游戏', 'tokens': 18},\n",
       " {'role': 'assistant',\n",
       "  'content': '{\"游戏策划\":{\"游戏玩法\":\"俄罗斯方块（Tetris）的游戏玩法基本如下：游戏目标：玩家的目标是在一个矩形的游戏区域内，通过旋转和移动不同形状的方块，使这些方块在底部形成完整的横行。当一行被填满时，该行会消失，玩家获得分数。游戏继续进行，方块下落的速度会逐渐加快。游戏结束的条件是方块堆积到游戏区域的顶部，此时没有空间再放置新的方块。方块形状：游戏中共有七种不同形状的方块，每种方块由四个小方块组成，它们分别是：I, O, T, S, Z, J, L。方块操作：下落：方块会从游戏区域的顶部开始向下移动，玩家无法停止或加速这个下落过程。旋转：玩家可以按特定按钮使方块顺时针旋转90度。左右移动：玩家可以使用左右方向键移动方块，使其在水平方向上移动。快速下落：玩家可以按特定按钮（通常是向下方向键或空格键）使方块快速下落到当前可到达的最低位置。消除行：当一行被完全填满时，该行会被消除，玩家获得分数，并且上面的所有行都会下移一格。同时消除多行会获得更高的分数。得分：每消除一行，玩家获得一定的分数。消除多行可以获得额外的分数奖励。随着游戏进行，方块下落速度加快，玩家获得的分数也会更高。游戏结束：如果新的方块无法进入游戏区域，游戏结束。玩家可以看到自己的最终得分，并且可以选择重新开始游戏。俄罗斯方块是一个简单但极具挑战性的游戏，它考验玩家的空间想象力、反应速度和策略规划能力。通过不断练习，玩家可以提高自己的游戏技巧和得分。\"}}',\n",
       "  'tokens': 693},\n",
       " {'role': 'user', 'content': '当前游戏策划怎么样？', 'tokens': 13},\n",
       " {'role': 'assistant',\n",
       "  'content': '当前的游戏策划已经非常完整，涵盖了游戏的基本玩法、目标、操作方式、得分机制和游戏结束条件等重要元素。如果你有任何想要修改或添加的想法，或者需要进一步细化某些方面，请告诉我，我将帮助你进行调整和完善。',\n",
       "  'tokens': 104}]"
      ]
     },
     "execution_count": 3,
     "metadata": {},
     "output_type": "execute_result"
    }
   ],
   "source": [
    "plan_pipeline.plan_memory.memory"
   ]
  },
  {
   "cell_type": "code",
   "execution_count": 4,
   "metadata": {},
   "outputs": [
    {
     "data": {
      "text/plain": [
       "{'游戏策划': {'游戏玩法': '俄罗斯方块（Tetris）的游戏玩法基本如下：游戏目标：玩家的目标是在一个矩形的游戏区域内，通过旋转和移动不同形状的方块，使这些方块在底部形成完整的横行。当一行被填满时，该行会消失，玩家获得分数。游戏继续进行，方块下落的速度会逐渐加快。游戏结束的条件是方块堆积到游戏区域的顶部，此时没有空间再放置新的方块。方块形状：游戏中共有七种不同形状的方块，每种方块由四个小方块组成，它们分别是：I, O, T, S, Z, J, L。方块操作：下落：方块会从游戏区域的顶部开始向下移动，玩家无法停止或加速这个下落过程。旋转：玩家可以按特定按钮使方块顺时针旋转90度。左右移动：玩家可以使用左右方向键移动方块，使其在水平方向上移动。快速下落：玩家可以按特定按钮（通常是向下方向键或空格键）使方块快速下落到当前可到达的最低位置。消除行：当一行被完全填满时，该行会被消除，玩家获得分数，并且上面的所有行都会下移一格。同时消除多行会获得更高的分数。得分：每消除一行，玩家获得一定的分数。消除多行可以获得额外的分数奖励。随着游戏进行，方块下落速度加快，玩家获得的分数也会更高。游戏结束：如果新的方块无法进入游戏区域，游戏结束。玩家可以看到自己的最终得分，并且可以选择重新开始游戏。俄罗斯方块是一个简单但极具挑战性的游戏，它考验玩家的空间想象力、反应速度和策略规划能力。通过不断练习，玩家可以提高自己的游戏技巧和得分。'}}"
      ]
     },
     "execution_count": 4,
     "metadata": {},
     "output_type": "execute_result"
    }
   ],
   "source": [
    "plan_pipeline.plan"
   ]
  },
  {
   "cell_type": "code",
   "execution_count": 6,
   "metadata": {},
   "outputs": [
    {
     "data": {
      "text/plain": [
       "({},\n",
       " [{'role': 'system',\n",
       "   'content': '你是一个专业的辅助用户实现 HTML5 游戏开发的游戏策划师。你应当礼貌地拒绝任何与游戏开发无关的交流。\\n\\n你的用户通常是一些初学者，他们希望使用 HTML5 进行游戏开发。他们对脑中期望游戏的描述通常是比较抽象的想法，而不是具体的游戏细节。你需要根据你的专业知识，发挥充分的想象力，将用户的抽象想法细化成具体的游戏玩法。其内容是对游戏策划案的详细描述。确保游戏策划的一致性，不要遗漏。\\n\\n如果用户提出了游戏策划的生成想法、修改意见，说明此时应当修改游戏策划；如果用户在与你交流沟通、询问建议等，说明此时应当先回答用户。\\n\\n如下是三个例子。\\n\\n#### 示例 1\\n- 用户的想法：我想要一个玩家控制小鸟飞行并躲避柱子的游戏，类似 Flappy Bird。\\n- **游戏策划**\\n```json\\n{\\n    \"游戏玩法\": \"玩家点击屏幕触发小鸟飞起，否则小鸟下落。场景中会有连续不断的上下两根柱子向小鸟移动，玩家需要控制小鸟通过两根柱子之间的空隙，否则游戏结束。\"\\n}\\n```\\n\\n#### 示例 2\\n- 用户的想法：你觉得一个玩家控制钩爪，抓取物品的游戏怎么样？物品可以是金矿，石头，钻石。\\n- **游戏策划**\\n```json\\n{\\n    \"游戏玩法\": \"玩家点击屏幕触发左右钟式摇摆的钩爪，抛出钩爪向前飞出直到触碰到物品，将物品抓回并按照物品类型结算效果，游戏倒计时结束则游戏结束，积分数量决定是否进入下一关。物品分为金矿，个体大小不一，获得正常积分且抓回速度正常；石头，个体大，获得少量积分且抓回速度缓慢；钻石，个体小，获得大量积分且抓回速度快。\",\\n}\\n```\\n\\n#### 示例 3\\n- 用户的想法：做一个俄罗斯方块游戏。\\n- **游戏策划**\\n```json\\n{\\n    \"游戏玩法\": \"俄罗斯方块（Tetris）的游戏玩法基本如下：游戏目标：玩家的目标是在一个矩形的游戏区域内，通过旋转和移动不同形状的方块，使这些方块在底部形成完整的横行。当一行被填满时，该行会消失，玩家获得分数。游戏继续进行，方块下落的速度会逐渐加快。游戏结束的条件是方块堆积到游戏区域的顶部，此时没有空间再放置新的方块。方块形状：游戏中共有七种不同形状的方块，每种方块由四个小方块组成，它们分别是：I, O, T, S, Z, J, L。方块操作：下落：方块会从游戏区域的顶部开始向下移动，玩家无法停止或加速这个下落过程。旋转：玩家可以按特定按钮使方块顺时针旋转90度。左右移动：玩家可以使用左右方向键移动方块，使其在水平方向上移动。快速下落：玩家可以按特定按钮（通常是向下方向键或空格键）使方块快速下落到当前可到达的最低位置。消除行：当一行被完全填满时，该行会被消除，玩家获得分数，并且上面的所有行都会下移一格。同时消除多行会获得更高的分数。得分：每消除一行，玩家获得一定的分数。消除多行可以获得额外的分数奖励。随着游戏进行，方块下落速度加快，玩家获得的分数也会更高。游戏结束：如果新的方块无法进入游戏区域，游戏结束。玩家可以看到自己的最终得分，并且可以选择重新开始游戏。俄罗斯方块是一个简单但极具挑战性的游戏，它考验玩家的空间想象力、反应速度和策略规划能力。通过不断练习，玩家可以提高自己的游戏技巧和得分。\"\\n}\\n```\\n\\n注意，当用户提出一个新的策划想法时，除了修改游戏玩法外，可能还需要对应地修改代码、美术素材。请仔细思考，不要遗漏。',\n",
       "   'tokens': 1518}])"
      ]
     },
     "execution_count": 6,
     "metadata": {},
     "output_type": "execute_result"
    }
   ],
   "source": [
    "plan_pipeline.revert()\n",
    "# plan_pipeline.restart()\n",
    "plan_pipeline.plan, plan_pipeline.plan_memory.memory"
   ]
  },
  {
   "cell_type": "code",
   "execution_count": 8,
   "metadata": {},
   "outputs": [
    {
     "data": {
      "text/plain": [
       "[{'role': 'system',\n",
       "  'content': '你是一个辅助用户实现 HTML5 游戏开发的代码开发专家。\\n你的用户通常是一些初学者，他们希望进行游戏开发，但是对 HTML5 和 JavaScript 等等并不熟悉。\\n\\n你需要充分理解用户对游戏的策划想法；其中，“游戏玩法”是你需要重点关注的内容，你需要依据此像一个开发专家一样写代码；你应当生成三个代码文件，分别是 `index.html`, `style.css` 和 `script.js`；\\n你被鼓励尽可能多生成代码；你应当尽可能完整的实现每个函数功能，不允许留有一些待实现的函数或代码块；\\n你生成的代码文件中每个自创的变量或类必须都有对应的实现，也不允许编造不存在的变量；\\n你不被允许引用不常用的第三方库，或者在代码中使用没有定义的类或函数或变量等。\\n\\n另外，在开发过程中：\\n    1. 严格禁止使用任何外部图片资源（如 .png, .jpg 等）\\n    2. 所有游戏图形必须使用 Canvas API 直接绘制\\n    3. 不允许使用 Image 对象和图片加载相关代码\\n    4. 应该充分利用 Canvas 的绘图能力，包括但不限于：\\n    - fillRect/strokeRect 绘制形状\\n    - arc/arcTo 绘制圆形\\n    - 路径绘制\\n    - 渐变效果\\n    - 阴影效果\\n    - 线条样式\\n\\n    在生成代码时，你应该：\\n    1. 使用清晰的注释说明每个绘图步骤\\n    2. 合理使用颜色和图形组合来创造视觉效果\\n    3. 注重性能优化\\n    4. 确保代码的可维护性和可读性\\n    5. 使用 canvas 整体的长或宽不要超过 400px\\n    6. 你不需要在 html 中加上 title 说明游戏名称，且按钮和 canvas 等控件尽可能居中整齐摆放\\n\\n如下是一个打地鼠游戏的例子。\\n\\n- `index.html`\\n```html\\n<!DOCTYPE html>\\n<html lang=\"zh-CN\">\\n<head>\\n    <meta charset=\"UTF-8\">\\n    <meta name=\"viewport\" content=\"width=device-width, initial-scale=1.0\">\\n    <title>打地鼠游戏</title>\\n    <link rel=\"stylesheet\" href=\"style.css\">\\n</head>\\n<body>\\n    <div class=\"game-container\">\\n        <h1>打地鼠游戏</h1>\\n        <p>分数: <span id=\"score\">0</span></p>\\n        <div class=\"holes\">\\n            <div class=\"hole\" id=\"hole1\"></div>\\n            <div class=\"hole\" id=\"hole2\"></div>\\n            <div class=\"hole\" id=\"hole3\"></div>\\n            <div class=\"hole\" id=\"hole4\"></div>\\n            <div class=\"hole\" id=\"hole5\"></div>\\n            <div class=\"hole\" id=\"hole6\"></div>\\n            <div class=\"hole\" id=\"hole7\"></div>\\n            <div class=\"hole\" id=\"hole8\"></div>\\n            <div class=\"hole\" id=\"hole9\"></div>\\n        </div>\\n        <button id=\"startBtn\">开始游戏</button>\\n    </div>\\n\\n    <script src=\"script.js\"></script>\\n</body>\\n</html>\\n```\\n\\n- `style.css`\\n```css\\n* {\\n    margin: 0;\\n    padding: 0;\\n    box-sizing: border-box;\\n}\\n\\nbody {\\n    font-family: Arial, sans-serif;\\n    display: flex;\\n    justify-content: center;\\n    align-items: center;\\n    height: 100vh;\\n    background-color: #f0f0f0;\\n}\\n\\n.game-container {\\n    text-align: center;\\n}\\n\\n.holes {\\n    display: grid;\\n    grid-template-columns: repeat(3, 100px);\\n    grid-template-rows: repeat(3, 100px);\\n    gap: 10px;\\n    margin-top: 20px;\\n}\\n\\n.hole {\\n    width: 100px;\\n    height: 100px;\\n    background-color: #d3d3d3;\\n    border-radius: 50%;\\n    position: relative;\\n    cursor: pointer;\\n}\\n\\n.mole {\\n    width: 80px;\\n    height: 80px;\\n    background-color: #8b4513;\\n    border-radius: 50%;\\n    position: absolute;\\n    top: 10px;\\n    left: 10px;\\n    display: none;\\n}\\n\\nbutton {\\n    margin-top: 20px;\\n    padding: 10px 20px;\\n    background-color: #28a745;\\n    color: white;\\n    border: none;\\n    border-radius: 5px;\\n    cursor: pointer;\\n}\\n\\nbutton:disabled {\\n    background-color: #ccc;\\n}\\n\\n#score {\\n    font-size: 24px;\\n    font-weight: bold;\\n}\\n```\\n\\n- `script.js`\\n```js\\nlet score = 0;\\nlet gameInterval;\\nlet moleInterval;\\nlet isGameRunning = false;\\nlet moleTimeout;\\n\\nconst holes = document.querySelectorAll(\\'.hole\\');\\nconst scoreElement = document.getElementById(\\'score\\');\\nconst startButton = document.getElementById(\\'startBtn\\');\\n\\nfunction showMole() {\\n    const randomHoleIndex = Math.floor(Math.random() * holes.length);\\n    const hole = holes[randomHoleIndex];\\n\\n    if (hole.querySelector(\\'.mole\\')) return;\\n\\n    const mole = document.createElement(\\'div\\');\\n    mole.classList.add(\\'mole\\');\\n    hole.appendChild(mole);\\n\\n    mole.style.display = \\'block\\';\\n\\n    mole.addEventListener(\\'click\\', () => {\\n        score++;\\n        scoreElement.textContent = score;\\n        mole.style.display = \\'none\\';\\n    });\\n\\n    moleTimeout = setTimeout(() => {\\n        mole.style.display = \\'none\\';\\n    }, 1000);\\n}\\n\\nfunction startGame() {\\n    score = 0;\\n    scoreElement.textContent = score;\\n    isGameRunning = true;\\n    startButton.disabled = true;\\n\\n    gameInterval = setInterval(() => {\\n        showMole();\\n    }, 1500);\\n\\n    setTimeout(() => {\\n        endGame();\\n    }, 30000);\\n}\\n\\nfunction endGame() {\\n    clearInterval(gameInterval);\\n    startButton.disabled = false;\\n    alert(`游戏结束！你的分数是：${score}`);\\n    isGameRunning = false;\\n    holes.forEach(hole => {\\n        const mole = hole.querySelector(\\'.mole\\');\\n        if (mole) mole.style.display = \\'none\\';\\n    });\\n}\\n\\nstartButton.addEventListener(\\'click\\', () => {\\n    if (!isGameRunning) {\\n        startGame();\\n    }\\n});\\n```\\n\\n不要忘记，尽可能生成长而正确的、不存在 BUG 的代码，以保证策划案中的所有需求都能被正确实现。',\n",
       "  'tokens': 1651},\n",
       " {'role': 'assistant',\n",
       "  'content': \"当前已有策划案内容如下：\\n{'游戏策划': {'游戏玩法': '俄罗斯方块（Tetris）的游戏玩法基本如下：游戏目标：玩家的目标是在一个矩形的游戏区域内，通过旋转和移动不同形状的方块，使这些方块在底部形成完整的横行。当一行被填满时，该行会消失，玩家获得分数。游戏继续进行，方块下落的速度会逐渐加快。游戏结束的条件是方块堆积到游戏区域的顶部，此时没有空间再放置新的方块。方块形状：游戏中共有七种不同形状的方块，每种方块由四个小方块组成，它们分别是：I, O, T, S, Z, J, L。方块操作：下落：方块会从游戏区域的顶部开始向下移动，玩家无法停止或加速这个下落过程。旋转：玩家可以按特定按钮使方块顺时针旋转90度。左右移动：玩家可以使用左右方向键移动方块，使其在水平方向上移动。快速下落：玩家可以按特定按钮（通常是向下方向键或空格键）使方块快速下落到当前可到达的最低位置。消除行：当一行被完全填满时，该行会被消除，玩家获得分数，并且上面的所有行都会下移一格。同时消除多行会获得更高的分数。得分：每消除一行，玩家获得一定的分数。消除多行可以获得额外的分数奖励。随着游戏进行，方块下落速度加快，玩家获得的分数也会更高。游戏结束：如果新的方块无法进入游戏区域，游戏结束。玩家可以看到自己的最终得分，并且可以选择重新开始游戏。俄罗斯方块是一个简单但极具挑战性的游戏，它考验玩家的空间想象力、反应速度和策略规划能力。通过不断练习，玩家可以提高自己的游戏技巧和得分。'}}\",\n",
       "  'tokens': 707}]"
      ]
     },
     "execution_count": 8,
     "metadata": {},
     "output_type": "execute_result"
    }
   ],
   "source": [
    "from modules.pipelines import CodePipeline\n",
    "\n",
    "code_pipeline = CodePipeline(plan_pipeline.plan)\n",
    "code_pipeline.code_memory.memory"
   ]
  },
  {
   "cell_type": "code",
   "execution_count": null,
   "metadata": {},
   "outputs": [],
   "source": [
    "out = overall_pipeline.step(query) # TODO"
   ]
  },
  {
   "cell_type": "code",
   "execution_count": 9,
   "metadata": {},
   "outputs": [
    {
     "data": {
      "text/plain": [
       "{'code': {'index.html': '<!DOCTYPE html>\\n<html lang=\"zh-CN\">\\n<head>\\n    <meta charset=\"UTF-8\">\\n    <meta name=\"viewport\" content=\"width=device-width, initial-scale=1.0\">\\n    <link rel=\"stylesheet\" href=\"style.css\">\\n</head>\\n<body>\\n    <div class=\"game-container\">\\n        <h1>俄罗斯方块</h1>\\n        <canvas id=\"gameCanvas\" width=\"300\" height=\"600\"></canvas>\\n        <div class=\"controls\">\\n            <button id=\"startBtn\">开始游戏</button>\\n            <p>分数: <span id=\"score\">0</span></p>\\n        </div>\\n    </div>\\n    <script src=\"script.js\"></script>\\n</body>\\n</html>',\n",
       "  'style.css': '* {\\n    margin: 0;\\n    padding: 0;\\n    box-sizing: border-box;\\n}\\n\\nbody {\\n    font-family: Arial, sans-serif;\\n    display: flex;\\n    justify-content: center;\\n    align-items: center;\\n    height: 100vh;\\n    background-color: #f0f0f0;\\n}\\n\\n.game-container {\\n    text-align: center;\\n}\\n\\ncanvas {\\n    background-color: #fff;\\n    border: 2px solid #000;\\n    display: block;\\n    margin: 0 auto;\\n}\\n\\n.controls {\\n    margin-top: 20px;\\n}\\n\\nbutton {\\n    padding: 10px 20px;\\n    background-color: #28a745;\\n    color: white;\\n    border: none;\\n    border-radius: 5px;\\n    cursor: pointer;\\n}\\n\\nbutton:disabled {\\n    background-color: #ccc;\\n}\\n\\n#score {\\n    font-size: 24px;\\n    font-weight: bold;\\n    margin-left: 20px;\\n}',\n",
       "  'script.js': \"const canvas = document.getElementById('gameCanvas');\\nconst ctx = canvas.getContext('2d');\\nconst startButton = document.getElementById('startBtn');\\nconst scoreElement = document.getElementById('score');\\n\\nconst COLS = 10;\\nconst ROWS = 20;\\nconst BLOCK_SIZE = 30;\\n\\nlet board = [];\\nlet currentPiece;\\nlet score = 0;\\nlet gameInterval;\\nlet isGameRunning = false;\\n\\n// Define the shapes of the Tetris pieces\\nconst SHAPES = [\\n    [[1, 1, 1, 1]], // I\\n    [[1, 1], [1, 1]], // O\\n    [[0, 1, 0], [1, 1, 1]], // T\\n    [[0, 1, 1], [1, 1, 0]], // S\\n    [[1, 1, 0], [0, 1, 1]], // Z\\n    [[1, 0, 0], [1, 1, 1]], // J\\n    [[0, 0, 1], [1, 1, 1]]  // L\\n];\\n\\n// Define colors for each shape\\nconst COLORS = [\\n    'cyan',\\n    'yellow',\\n    'purple',\\n    'green',\\n    'red',\\n    'blue',\\n    'orange'\\n];\\n\\n// Initialize the game board\\nfunction initBoard() {\\n    board = Array.from({ length: ROWS }, () => Array(COLS).fill(0));\\n}\\n\\n// Draw the game board\\nfunction drawBoard() {\\n    ctx.clearRect(0, 0, canvas.width, canvas.height);\\n    for (let row = 0; row < ROWS; row++) {\\n        for (let col = 0; col < COLS; col++) {\\n            if (board[row][col]) {\\n                ctx.fillStyle = COLORS[board[row][col] - 1];\\n                ctx.fillRect(col * BLOCK_SIZE, row * BLOCK_SIZE, BLOCK_SIZE, BLOCK_SIZE);\\n                ctx.strokeRect(col * BLOCK_SIZE, row * BLOCK_SIZE, BLOCK_SIZE, BLOCK_SIZE);\\n            }\\n        }\\n    }\\n}\\n\\n// Create a new piece\\nfunction createPiece() {\\n    const typeId = Math.floor(Math.random() * SHAPES.length);\\n    const shape = SHAPES[typeId];\\n    const color = COLORS[typeId];\\n    return {\\n        shape,\\n        color,\\n        x: Math.floor(COLS / 2) - Math.floor(shape[0].length / 2),\\n        y: 0\\n    };\\n}\\n\\n// Draw the current piece\\nfunction drawPiece(piece) {\\n    ctx.fillStyle = piece.color;\\n    piece.shape.forEach((row, y) => {\\n        row.forEach((value, x) => {\\n            if (value) {\\n                ctx.fillRect((piece.x + x) * BLOCK_SIZE, (piece.y + y) * BLOCK_SIZE, BLOCK_SIZE, BLOCK_SIZE);\\n                ctx.strokeRect((piece.x + x) * BLOCK_SIZE, (piece.y + y) * BLOCK_SIZE, BLOCK_SIZE, BLOCK_SIZE);\\n            }\\n        });\\n    });\\n}\\n\\n// Check if the piece can move to the new position\\nfunction isValidMove(piece, offsetX, offsetY) {\\n    for (let y = 0; y < piece.shape.length; y++) {\\n        for (let x = 0; x < piece.shape[y].length; x++) {\\n            if (piece.shape[y][x]) {\\n                const newX = piece.x + x + offsetX;\\n                const newY = piece.y + y + offsetY;\\n                if (newX < 0 || newX >= COLS || newY >= ROWS || (newY >= 0 && board[newY][newX])) {\\n                    return false;\\n                }\\n            }\\n        }\\n    }\\n    return true;\\n}\\n\\n// Place the piece on the board\\nfunction placePiece(piece) {\\n    piece.shape.forEach((row, y) => {\\n        row.forEach((value, x) => {\\n            if (value) {\\n                board[piece.y + y][piece.x + x] = COLORS.indexOf(piece.color) + 1;\\n            }\\n        });\\n    });\\n}\\n\\n// Clear full lines and update score\\nfunction clearLines() {\\n    let linesCleared = 0;\\n    for (let y = ROWS - 1; y >= 0; y--) {\\n        if (board[y].every(value => value !== 0)) {\\n            board.splice(y, 1);\\n            board.unshift(Array(COLS).fill(0));\\n            linesCleared++;\\n            y++;\\n        }\\n    }\\n    score += linesCleared * 10;\\n    scoreElement.textContent = score;\\n}\\n\\n// Move the piece down\\nfunction moveDown() {\\n    if (isValidMove(currentPiece, 0, 1)) {\\n        currentPiece.y++;\\n    } else {\\n        placePiece(currentPiece);\\n        clearLines();\\n        currentPiece = createPiece();\\n        if (!isValidMove(currentPiece, 0, 0)) {\\n            endGame();\\n        }\\n    }\\n}\\n\\n// Rotate the piece\\nfunction rotatePiece() {\\n    const shape = currentPiece.shape.map((_, index) => currentPiece.shape.map(row => row[index]).reverse());\\n    const oldX = currentPiece.x;\\n    let offset = 1;\\n    while (!isValidMove({ ...currentPiece, shape }, 0, 0)) {\\n        currentPiece.x += offset;\\n        offset = -(offset + (offset > 0 ? 1 : -1));\\n        if (offset > currentPiece.shape[0].length) {\\n            currentPiece.x = oldX;\\n            return;\\n        }\\n    }\\n    currentPiece.shape = shape;\\n}\\n\\n// Handle key press events\\nfunction handleKeyPress(event) {\\n    if (!isGameRunning) return;\\n    switch (event.key) {\\n        case 'ArrowLeft':\\n            if (isValidMove(currentPiece, -1, 0)) currentPiece.x--;\\n            break;\\n        case 'ArrowRight':\\n            if (isValidMove(currentPiece, 1, 0)) currentPiece.x++;\\n            break;\\n        case 'ArrowDown':\\n            moveDown();\\n            break;\\n        case 'ArrowUp':\\n            rotatePiece();\\n            break;\\n    }\\n}\\n\\n// Start the game\\nfunction startGame() {\\n    initBoard();\\n    score = 0;\\n    scoreElement.textContent = score;\\n    currentPiece = createPiece();\\n    isGameRunning = true;\\n    startButton.disabled = true;\\n    gameInterval = setInterval(() => {\\n        moveDown();\\n        drawBoard();\\n        drawPiece(currentPiece);\\n    }, 500);\\n}\\n\\n// End the game\\nfunction endGame() {\\n    clearInterval(gameInterval);\\n    isGameRunning = false;\\n    startButton.disabled = false;\\n    alert(`游戏结束！你的分数是：${score}`);\\n}\\n\\n// Event listeners\\nstartButton.addEventListener('click', () => {\\n    if (!isGameRunning) {\\n        startGame();\\n    }\\n});\\n\\ndocument.addEventListener('keydown', handleKeyPress);\"},\n",
       " 'mode': 0,\n",
       " 'response': None}"
      ]
     },
     "execution_count": 9,
     "metadata": {},
     "output_type": "execute_result"
    }
   ],
   "source": [
    "out = code_pipeline.init_step()\n",
    "out"
   ]
  },
  {
   "cell_type": "code",
   "execution_count": 10,
   "metadata": {},
   "outputs": [
    {
     "data": {
      "text/plain": [
       "([{'role': 'system',\n",
       "   'content': '你是一个辅助用户实现 HTML5 游戏开发的代码开发专家。\\n你的用户通常是一些初学者，他们希望进行游戏开发，但是对 HTML5 和 JavaScript 等等并不熟悉。\\n\\n你需要充分理解用户对游戏的策划想法；其中，“游戏玩法”是你需要重点关注的内容，你需要依据此像一个开发专家一样写代码；你应当生成三个代码文件，分别是 `index.html`, `style.css` 和 `script.js`；\\n你被鼓励尽可能多生成代码；你应当尽可能完整的实现每个函数功能，不允许留有一些待实现的函数或代码块；\\n你生成的代码文件中每个自创的变量或类必须都有对应的实现，也不允许编造不存在的变量；\\n你不被允许引用不常用的第三方库，或者在代码中使用没有定义的类或函数或变量等。\\n\\n另外，在开发过程中：\\n    1. 严格禁止使用任何外部图片资源（如 .png, .jpg 等）\\n    2. 所有游戏图形必须使用 Canvas API 直接绘制\\n    3. 不允许使用 Image 对象和图片加载相关代码\\n    4. 应该充分利用 Canvas 的绘图能力，包括但不限于：\\n    - fillRect/strokeRect 绘制形状\\n    - arc/arcTo 绘制圆形\\n    - 路径绘制\\n    - 渐变效果\\n    - 阴影效果\\n    - 线条样式\\n\\n    在生成代码时，你应该：\\n    1. 使用清晰的注释说明每个绘图步骤\\n    2. 合理使用颜色和图形组合来创造视觉效果\\n    3. 注重性能优化\\n    4. 确保代码的可维护性和可读性\\n    5. 使用 canvas 整体的长或宽不要超过 400px\\n    6. 你不需要在 html 中加上 title 说明游戏名称，且按钮和 canvas 等控件尽可能居中整齐摆放\\n\\n如下是一个打地鼠游戏的例子。\\n\\n- `index.html`\\n```html\\n<!DOCTYPE html>\\n<html lang=\"zh-CN\">\\n<head>\\n    <meta charset=\"UTF-8\">\\n    <meta name=\"viewport\" content=\"width=device-width, initial-scale=1.0\">\\n    <title>打地鼠游戏</title>\\n    <link rel=\"stylesheet\" href=\"style.css\">\\n</head>\\n<body>\\n    <div class=\"game-container\">\\n        <h1>打地鼠游戏</h1>\\n        <p>分数: <span id=\"score\">0</span></p>\\n        <div class=\"holes\">\\n            <div class=\"hole\" id=\"hole1\"></div>\\n            <div class=\"hole\" id=\"hole2\"></div>\\n            <div class=\"hole\" id=\"hole3\"></div>\\n            <div class=\"hole\" id=\"hole4\"></div>\\n            <div class=\"hole\" id=\"hole5\"></div>\\n            <div class=\"hole\" id=\"hole6\"></div>\\n            <div class=\"hole\" id=\"hole7\"></div>\\n            <div class=\"hole\" id=\"hole8\"></div>\\n            <div class=\"hole\" id=\"hole9\"></div>\\n        </div>\\n        <button id=\"startBtn\">开始游戏</button>\\n    </div>\\n\\n    <script src=\"script.js\"></script>\\n</body>\\n</html>\\n```\\n\\n- `style.css`\\n```css\\n* {\\n    margin: 0;\\n    padding: 0;\\n    box-sizing: border-box;\\n}\\n\\nbody {\\n    font-family: Arial, sans-serif;\\n    display: flex;\\n    justify-content: center;\\n    align-items: center;\\n    height: 100vh;\\n    background-color: #f0f0f0;\\n}\\n\\n.game-container {\\n    text-align: center;\\n}\\n\\n.holes {\\n    display: grid;\\n    grid-template-columns: repeat(3, 100px);\\n    grid-template-rows: repeat(3, 100px);\\n    gap: 10px;\\n    margin-top: 20px;\\n}\\n\\n.hole {\\n    width: 100px;\\n    height: 100px;\\n    background-color: #d3d3d3;\\n    border-radius: 50%;\\n    position: relative;\\n    cursor: pointer;\\n}\\n\\n.mole {\\n    width: 80px;\\n    height: 80px;\\n    background-color: #8b4513;\\n    border-radius: 50%;\\n    position: absolute;\\n    top: 10px;\\n    left: 10px;\\n    display: none;\\n}\\n\\nbutton {\\n    margin-top: 20px;\\n    padding: 10px 20px;\\n    background-color: #28a745;\\n    color: white;\\n    border: none;\\n    border-radius: 5px;\\n    cursor: pointer;\\n}\\n\\nbutton:disabled {\\n    background-color: #ccc;\\n}\\n\\n#score {\\n    font-size: 24px;\\n    font-weight: bold;\\n}\\n```\\n\\n- `script.js`\\n```js\\nlet score = 0;\\nlet gameInterval;\\nlet moleInterval;\\nlet isGameRunning = false;\\nlet moleTimeout;\\n\\nconst holes = document.querySelectorAll(\\'.hole\\');\\nconst scoreElement = document.getElementById(\\'score\\');\\nconst startButton = document.getElementById(\\'startBtn\\');\\n\\nfunction showMole() {\\n    const randomHoleIndex = Math.floor(Math.random() * holes.length);\\n    const hole = holes[randomHoleIndex];\\n\\n    if (hole.querySelector(\\'.mole\\')) return;\\n\\n    const mole = document.createElement(\\'div\\');\\n    mole.classList.add(\\'mole\\');\\n    hole.appendChild(mole);\\n\\n    mole.style.display = \\'block\\';\\n\\n    mole.addEventListener(\\'click\\', () => {\\n        score++;\\n        scoreElement.textContent = score;\\n        mole.style.display = \\'none\\';\\n    });\\n\\n    moleTimeout = setTimeout(() => {\\n        mole.style.display = \\'none\\';\\n    }, 1000);\\n}\\n\\nfunction startGame() {\\n    score = 0;\\n    scoreElement.textContent = score;\\n    isGameRunning = true;\\n    startButton.disabled = true;\\n\\n    gameInterval = setInterval(() => {\\n        showMole();\\n    }, 1500);\\n\\n    setTimeout(() => {\\n        endGame();\\n    }, 30000);\\n}\\n\\nfunction endGame() {\\n    clearInterval(gameInterval);\\n    startButton.disabled = false;\\n    alert(`游戏结束！你的分数是：${score}`);\\n    isGameRunning = false;\\n    holes.forEach(hole => {\\n        const mole = hole.querySelector(\\'.mole\\');\\n        if (mole) mole.style.display = \\'none\\';\\n    });\\n}\\n\\nstartButton.addEventListener(\\'click\\', () => {\\n    if (!isGameRunning) {\\n        startGame();\\n    }\\n});\\n```\\n\\n不要忘记，尽可能生成长而正确的、不存在 BUG 的代码，以保证策划案中的所有需求都能被正确实现。',\n",
       "   'tokens': 1651},\n",
       "  {'role': 'assistant',\n",
       "   'content': \"当前已有策划案内容如下：\\n{'游戏策划': {'游戏玩法': '俄罗斯方块（Tetris）的游戏玩法基本如下：游戏目标：玩家的目标是在一个矩形的游戏区域内，通过旋转和移动不同形状的方块，使这些方块在底部形成完整的横行。当一行被填满时，该行会消失，玩家获得分数。游戏继续进行，方块下落的速度会逐渐加快。游戏结束的条件是方块堆积到游戏区域的顶部，此时没有空间再放置新的方块。方块形状：游戏中共有七种不同形状的方块，每种方块由四个小方块组成，它们分别是：I, O, T, S, Z, J, L。方块操作：下落：方块会从游戏区域的顶部开始向下移动，玩家无法停止或加速这个下落过程。旋转：玩家可以按特定按钮使方块顺时针旋转90度。左右移动：玩家可以使用左右方向键移动方块，使其在水平方向上移动。快速下落：玩家可以按特定按钮（通常是向下方向键或空格键）使方块快速下落到当前可到达的最低位置。消除行：当一行被完全填满时，该行会被消除，玩家获得分数，并且上面的所有行都会下移一格。同时消除多行会获得更高的分数。得分：每消除一行，玩家获得一定的分数。消除多行可以获得额外的分数奖励。随着游戏进行，方块下落速度加快，玩家获得的分数也会更高。游戏结束：如果新的方块无法进入游戏区域，游戏结束。玩家可以看到自己的最终得分，并且可以选择重新开始游戏。俄罗斯方块是一个简单但极具挑战性的游戏，它考验玩家的空间想象力、反应速度和策略规划能力。通过不断练习，玩家可以提高自己的游戏技巧和得分。'}}\",\n",
       "   'tokens': 707},\n",
       "  {'role': 'system',\n",
       "   'content': '现在，请根据上述例子、用户的指示以及当前的游戏策划内容，生成 `index.html`, `style.css` 和 `script.js` 的代码文件内容。如果一些代码文件已有内容，说明用户可能更新了游戏策划，请根据新的游戏策划内容，更新代码文件的内容。',\n",
       "   'tokens': 89},\n",
       "  {'role': 'assistant',\n",
       "   'content': '{\"filename\":\"index.html\",\"code\":\"<!DOCTYPE html>\\\\n<html lang=\\\\\"zh-CN\\\\\">\\\\n<head>\\\\n    <meta charset=\\\\\"UTF-8\\\\\">\\\\n    <meta name=\\\\\"viewport\\\\\" content=\\\\\"width=device-width, initial-scale=1.0\\\\\">\\\\n    <link rel=\\\\\"stylesheet\\\\\" href=\\\\\"style.css\\\\\">\\\\n</head>\\\\n<body>\\\\n    <div class=\\\\\"game-container\\\\\">\\\\n        <h1>俄罗斯方块</h1>\\\\n        <canvas id=\\\\\"gameCanvas\\\\\" width=\\\\\"300\\\\\" height=\\\\\"600\\\\\"></canvas>\\\\n        <div class=\\\\\"controls\\\\\">\\\\n            <button id=\\\\\"startBtn\\\\\">开始游戏</button>\\\\n            <p>分数: <span id=\\\\\"score\\\\\">0</span></p>\\\\n        </div>\\\\n    </div>\\\\n    <script src=\\\\\"script.js\\\\\"></script>\\\\n</body>\\\\n</html>\"}',\n",
       "   'tokens': 194},\n",
       "  {'role': 'assistant',\n",
       "   'content': '{\"filename\":\"style.css\",\"code\":\"* {\\\\n    margin: 0;\\\\n    padding: 0;\\\\n    box-sizing: border-box;\\\\n}\\\\n\\\\nbody {\\\\n    font-family: Arial, sans-serif;\\\\n    display: flex;\\\\n    justify-content: center;\\\\n    align-items: center;\\\\n    height: 100vh;\\\\n    background-color: #f0f0f0;\\\\n}\\\\n\\\\n.game-container {\\\\n    text-align: center;\\\\n}\\\\n\\\\ncanvas {\\\\n    background-color: #fff;\\\\n    border: 2px solid #000;\\\\n    display: block;\\\\n    margin: 0 auto;\\\\n}\\\\n\\\\n.controls {\\\\n    margin-top: 20px;\\\\n}\\\\n\\\\nbutton {\\\\n    padding: 10px 20px;\\\\n    background-color: #28a745;\\\\n    color: white;\\\\n    border: none;\\\\n    border-radius: 5px;\\\\n    cursor: pointer;\\\\n}\\\\n\\\\nbutton:disabled {\\\\n    background-color: #ccc;\\\\n}\\\\n\\\\n#score {\\\\n    font-size: 24px;\\\\n    font-weight: bold;\\\\n    margin-left: 20px;\\\\n}\"}',\n",
       "   'tokens': 263},\n",
       "  {'role': 'assistant',\n",
       "   'content': '{\"filename\":\"script.js\",\"code\":\"const canvas = document.getElementById(\\'gameCanvas\\');\\\\nconst ctx = canvas.getContext(\\'2d\\');\\\\nconst startButton = document.getElementById(\\'startBtn\\');\\\\nconst scoreElement = document.getElementById(\\'score\\');\\\\n\\\\nconst COLS = 10;\\\\nconst ROWS = 20;\\\\nconst BLOCK_SIZE = 30;\\\\n\\\\nlet board = [];\\\\nlet currentPiece;\\\\nlet score = 0;\\\\nlet gameInterval;\\\\nlet isGameRunning = false;\\\\n\\\\n// Define the shapes of the Tetris pieces\\\\nconst SHAPES = [\\\\n    [[1, 1, 1, 1]], // I\\\\n    [[1, 1], [1, 1]], // O\\\\n    [[0, 1, 0], [1, 1, 1]], // T\\\\n    [[0, 1, 1], [1, 1, 0]], // S\\\\n    [[1, 1, 0], [0, 1, 1]], // Z\\\\n    [[1, 0, 0], [1, 1, 1]], // J\\\\n    [[0, 0, 1], [1, 1, 1]]  // L\\\\n];\\\\n\\\\n// Define colors for each shape\\\\nconst COLORS = [\\\\n    \\'cyan\\',\\\\n    \\'yellow\\',\\\\n    \\'purple\\',\\\\n    \\'green\\',\\\\n    \\'red\\',\\\\n    \\'blue\\',\\\\n    \\'orange\\'\\\\n];\\\\n\\\\n// Initialize the game board\\\\nfunction initBoard() {\\\\n    board = Array.from({ length: ROWS }, () => Array(COLS).fill(0));\\\\n}\\\\n\\\\n// Draw the game board\\\\nfunction drawBoard() {\\\\n    ctx.clearRect(0, 0, canvas.width, canvas.height);\\\\n    for (let row = 0; row < ROWS; row++) {\\\\n        for (let col = 0; col < COLS; col++) {\\\\n            if (board[row][col]) {\\\\n                ctx.fillStyle = COLORS[board[row][col] - 1];\\\\n                ctx.fillRect(col * BLOCK_SIZE, row * BLOCK_SIZE, BLOCK_SIZE, BLOCK_SIZE);\\\\n                ctx.strokeRect(col * BLOCK_SIZE, row * BLOCK_SIZE, BLOCK_SIZE, BLOCK_SIZE);\\\\n            }\\\\n        }\\\\n    }\\\\n}\\\\n\\\\n// Create a new piece\\\\nfunction createPiece() {\\\\n    const typeId = Math.floor(Math.random() * SHAPES.length);\\\\n    const shape = SHAPES[typeId];\\\\n    const color = COLORS[typeId];\\\\n    return {\\\\n        shape,\\\\n        color,\\\\n        x: Math.floor(COLS / 2) - Math.floor(shape[0].length / 2),\\\\n        y: 0\\\\n    };\\\\n}\\\\n\\\\n// Draw the current piece\\\\nfunction drawPiece(piece) {\\\\n    ctx.fillStyle = piece.color;\\\\n    piece.shape.forEach((row, y) => {\\\\n        row.forEach((value, x) => {\\\\n            if (value) {\\\\n                ctx.fillRect((piece.x + x) * BLOCK_SIZE, (piece.y + y) * BLOCK_SIZE, BLOCK_SIZE, BLOCK_SIZE);\\\\n                ctx.strokeRect((piece.x + x) * BLOCK_SIZE, (piece.y + y) * BLOCK_SIZE, BLOCK_SIZE, BLOCK_SIZE);\\\\n            }\\\\n        });\\\\n    });\\\\n}\\\\n\\\\n// Check if the piece can move to the new position\\\\nfunction isValidMove(piece, offsetX, offsetY) {\\\\n    for (let y = 0; y < piece.shape.length; y++) {\\\\n        for (let x = 0; x < piece.shape[y].length; x++) {\\\\n            if (piece.shape[y][x]) {\\\\n                const newX = piece.x + x + offsetX;\\\\n                const newY = piece.y + y + offsetY;\\\\n                if (newX < 0 || newX >= COLS || newY >= ROWS || (newY >= 0 && board[newY][newX])) {\\\\n                    return false;\\\\n                }\\\\n            }\\\\n        }\\\\n    }\\\\n    return true;\\\\n}\\\\n\\\\n// Place the piece on the board\\\\nfunction placePiece(piece) {\\\\n    piece.shape.forEach((row, y) => {\\\\n        row.forEach((value, x) => {\\\\n            if (value) {\\\\n                board[piece.y + y][piece.x + x] = COLORS.indexOf(piece.color) + 1;\\\\n            }\\\\n        });\\\\n    });\\\\n}\\\\n\\\\n// Clear full lines and update score\\\\nfunction clearLines() {\\\\n    let linesCleared = 0;\\\\n    for (let y = ROWS - 1; y >= 0; y--) {\\\\n        if (board[y].every(value => value !== 0)) {\\\\n            board.splice(y, 1);\\\\n            board.unshift(Array(COLS).fill(0));\\\\n            linesCleared++;\\\\n            y++;\\\\n        }\\\\n    }\\\\n    score += linesCleared * 10;\\\\n    scoreElement.textContent = score;\\\\n}\\\\n\\\\n// Move the piece down\\\\nfunction moveDown() {\\\\n    if (isValidMove(currentPiece, 0, 1)) {\\\\n        currentPiece.y++;\\\\n    } else {\\\\n        placePiece(currentPiece);\\\\n        clearLines();\\\\n        currentPiece = createPiece();\\\\n        if (!isValidMove(currentPiece, 0, 0)) {\\\\n            endGame();\\\\n        }\\\\n    }\\\\n}\\\\n\\\\n// Rotate the piece\\\\nfunction rotatePiece() {\\\\n    const shape = currentPiece.shape.map((_, index) => currentPiece.shape.map(row => row[index]).reverse());\\\\n    const oldX = currentPiece.x;\\\\n    let offset = 1;\\\\n    while (!isValidMove({ ...currentPiece, shape }, 0, 0)) {\\\\n        currentPiece.x += offset;\\\\n        offset = -(offset + (offset > 0 ? 1 : -1));\\\\n        if (offset > currentPiece.shape[0].length) {\\\\n            currentPiece.x = oldX;\\\\n            return;\\\\n        }\\\\n    }\\\\n    currentPiece.shape = shape;\\\\n}\\\\n\\\\n// Handle key press events\\\\nfunction handleKeyPress(event) {\\\\n    if (!isGameRunning) return;\\\\n    switch (event.key) {\\\\n        case \\'ArrowLeft\\':\\\\n            if (isValidMove(currentPiece, -1, 0)) currentPiece.x--;\\\\n            break;\\\\n        case \\'ArrowRight\\':\\\\n            if (isValidMove(currentPiece, 1, 0)) currentPiece.x++;\\\\n            break;\\\\n        case \\'ArrowDown\\':\\\\n            moveDown();\\\\n            break;\\\\n        case \\'ArrowUp\\':\\\\n            rotatePiece();\\\\n            break;\\\\n    }\\\\n}\\\\n\\\\n// Start the game\\\\nfunction startGame() {\\\\n    initBoard();\\\\n    score = 0;\\\\n    scoreElement.textContent = score;\\\\n    currentPiece = createPiece();\\\\n    isGameRunning = true;\\\\n    startButton.disabled = true;\\\\n    gameInterval = setInterval(() => {\\\\n        moveDown();\\\\n        drawBoard();\\\\n        drawPiece(currentPiece);\\\\n    }, 500);\\\\n}\\\\n\\\\n// End the game\\\\nfunction endGame() {\\\\n    clearInterval(gameInterval);\\\\n    isGameRunning = false;\\\\n    startButton.disabled = false;\\\\n    alert(`游戏结束！你的分数是：${score}`);\\\\n}\\\\n\\\\n// Event listeners\\\\nstartButton.addEventListener(\\'click\\', () => {\\\\n    if (!isGameRunning) {\\\\n        startGame();\\\\n    }\\\\n});\\\\n\\\\ndocument.addEventListener(\\'keydown\\', handleKeyPress);\"}',\n",
       "   'tokens': 1677}],\n",
       " 4581)"
      ]
     },
     "execution_count": 10,
     "metadata": {},
     "output_type": "execute_result"
    }
   ],
   "source": [
    "code_pipeline.code_memory.memory, code_pipeline.code_memory.count_memory_tokens()"
   ]
  },
  {
   "cell_type": "code",
   "execution_count": 11,
   "metadata": {},
   "outputs": [
    {
     "data": {
      "text/plain": [
       "{'index.html': '<!DOCTYPE html>\\n<html lang=\"zh-CN\">\\n<head>\\n    <meta charset=\"UTF-8\">\\n    <meta name=\"viewport\" content=\"width=device-width, initial-scale=1.0\">\\n    <link rel=\"stylesheet\" href=\"style.css\">\\n</head>\\n<body>\\n    <div class=\"game-container\">\\n        <h1>俄罗斯方块</h1>\\n        <canvas id=\"gameCanvas\" width=\"300\" height=\"600\"></canvas>\\n        <div class=\"controls\">\\n            <button id=\"startBtn\">开始游戏</button>\\n            <p>分数: <span id=\"score\">0</span></p>\\n        </div>\\n    </div>\\n    <script src=\"script.js\"></script>\\n</body>\\n</html>',\n",
       " 'style.css': '* {\\n    margin: 0;\\n    padding: 0;\\n    box-sizing: border-box;\\n}\\n\\nbody {\\n    font-family: Arial, sans-serif;\\n    display: flex;\\n    justify-content: center;\\n    align-items: center;\\n    height: 100vh;\\n    background-color: #f0f0f0;\\n}\\n\\n.game-container {\\n    text-align: center;\\n}\\n\\ncanvas {\\n    background-color: #fff;\\n    border: 2px solid #000;\\n    display: block;\\n    margin: 0 auto;\\n}\\n\\n.controls {\\n    margin-top: 20px;\\n}\\n\\nbutton {\\n    padding: 10px 20px;\\n    background-color: #28a745;\\n    color: white;\\n    border: none;\\n    border-radius: 5px;\\n    cursor: pointer;\\n}\\n\\nbutton:disabled {\\n    background-color: #ccc;\\n}\\n\\n#score {\\n    font-size: 24px;\\n    font-weight: bold;\\n    margin-left: 20px;\\n}',\n",
       " 'script.js': \"const canvas = document.getElementById('gameCanvas');\\nconst ctx = canvas.getContext('2d');\\nconst startButton = document.getElementById('startBtn');\\nconst scoreElement = document.getElementById('score');\\n\\nconst COLS = 10;\\nconst ROWS = 20;\\nconst BLOCK_SIZE = 30;\\n\\nlet board = [];\\nlet currentPiece;\\nlet score = 0;\\nlet gameInterval;\\nlet isGameRunning = false;\\n\\n// Define the shapes of the Tetris pieces\\nconst SHAPES = [\\n    [[1, 1, 1, 1]], // I\\n    [[1, 1], [1, 1]], // O\\n    [[0, 1, 0], [1, 1, 1]], // T\\n    [[0, 1, 1], [1, 1, 0]], // S\\n    [[1, 1, 0], [0, 1, 1]], // Z\\n    [[1, 0, 0], [1, 1, 1]], // J\\n    [[0, 0, 1], [1, 1, 1]]  // L\\n];\\n\\n// Define colors for each shape\\nconst COLORS = [\\n    'cyan',\\n    'yellow',\\n    'purple',\\n    'green',\\n    'red',\\n    'blue',\\n    'orange'\\n];\\n\\n// Initialize the game board\\nfunction initBoard() {\\n    board = Array.from({ length: ROWS }, () => Array(COLS).fill(0));\\n}\\n\\n// Draw the game board\\nfunction drawBoard() {\\n    ctx.clearRect(0, 0, canvas.width, canvas.height);\\n    for (let row = 0; row < ROWS; row++) {\\n        for (let col = 0; col < COLS; col++) {\\n            if (board[row][col]) {\\n                ctx.fillStyle = COLORS[board[row][col] - 1];\\n                ctx.fillRect(col * BLOCK_SIZE, row * BLOCK_SIZE, BLOCK_SIZE, BLOCK_SIZE);\\n                ctx.strokeRect(col * BLOCK_SIZE, row * BLOCK_SIZE, BLOCK_SIZE, BLOCK_SIZE);\\n            }\\n        }\\n    }\\n}\\n\\n// Create a new piece\\nfunction createPiece() {\\n    const typeId = Math.floor(Math.random() * SHAPES.length);\\n    const shape = SHAPES[typeId];\\n    const color = COLORS[typeId];\\n    return {\\n        shape,\\n        color,\\n        x: Math.floor(COLS / 2) - Math.floor(shape[0].length / 2),\\n        y: 0\\n    };\\n}\\n\\n// Draw the current piece\\nfunction drawPiece(piece) {\\n    ctx.fillStyle = piece.color;\\n    piece.shape.forEach((row, y) => {\\n        row.forEach((value, x) => {\\n            if (value) {\\n                ctx.fillRect((piece.x + x) * BLOCK_SIZE, (piece.y + y) * BLOCK_SIZE, BLOCK_SIZE, BLOCK_SIZE);\\n                ctx.strokeRect((piece.x + x) * BLOCK_SIZE, (piece.y + y) * BLOCK_SIZE, BLOCK_SIZE, BLOCK_SIZE);\\n            }\\n        });\\n    });\\n}\\n\\n// Check if the piece can move to the new position\\nfunction isValidMove(piece, offsetX, offsetY) {\\n    for (let y = 0; y < piece.shape.length; y++) {\\n        for (let x = 0; x < piece.shape[y].length; x++) {\\n            if (piece.shape[y][x]) {\\n                const newX = piece.x + x + offsetX;\\n                const newY = piece.y + y + offsetY;\\n                if (newX < 0 || newX >= COLS || newY >= ROWS || (newY >= 0 && board[newY][newX])) {\\n                    return false;\\n                }\\n            }\\n        }\\n    }\\n    return true;\\n}\\n\\n// Place the piece on the board\\nfunction placePiece(piece) {\\n    piece.shape.forEach((row, y) => {\\n        row.forEach((value, x) => {\\n            if (value) {\\n                board[piece.y + y][piece.x + x] = COLORS.indexOf(piece.color) + 1;\\n            }\\n        });\\n    });\\n}\\n\\n// Clear full lines and update score\\nfunction clearLines() {\\n    let linesCleared = 0;\\n    for (let y = ROWS - 1; y >= 0; y--) {\\n        if (board[y].every(value => value !== 0)) {\\n            board.splice(y, 1);\\n            board.unshift(Array(COLS).fill(0));\\n            linesCleared++;\\n            y++;\\n        }\\n    }\\n    score += linesCleared * 10;\\n    scoreElement.textContent = score;\\n}\\n\\n// Move the piece down\\nfunction moveDown() {\\n    if (isValidMove(currentPiece, 0, 1)) {\\n        currentPiece.y++;\\n    } else {\\n        placePiece(currentPiece);\\n        clearLines();\\n        currentPiece = createPiece();\\n        if (!isValidMove(currentPiece, 0, 0)) {\\n            endGame();\\n        }\\n    }\\n}\\n\\n// Rotate the piece\\nfunction rotatePiece() {\\n    const shape = currentPiece.shape.map((_, index) => currentPiece.shape.map(row => row[index]).reverse());\\n    const oldX = currentPiece.x;\\n    let offset = 1;\\n    while (!isValidMove({ ...currentPiece, shape }, 0, 0)) {\\n        currentPiece.x += offset;\\n        offset = -(offset + (offset > 0 ? 1 : -1));\\n        if (offset > currentPiece.shape[0].length) {\\n            currentPiece.x = oldX;\\n            return;\\n        }\\n    }\\n    currentPiece.shape = shape;\\n}\\n\\n// Handle key press events\\nfunction handleKeyPress(event) {\\n    if (!isGameRunning) return;\\n    switch (event.key) {\\n        case 'ArrowLeft':\\n            if (isValidMove(currentPiece, -1, 0)) currentPiece.x--;\\n            break;\\n        case 'ArrowRight':\\n            if (isValidMove(currentPiece, 1, 0)) currentPiece.x++;\\n            break;\\n        case 'ArrowDown':\\n            moveDown();\\n            break;\\n        case 'ArrowUp':\\n            rotatePiece();\\n            break;\\n    }\\n}\\n\\n// Start the game\\nfunction startGame() {\\n    initBoard();\\n    score = 0;\\n    scoreElement.textContent = score;\\n    currentPiece = createPiece();\\n    isGameRunning = true;\\n    startButton.disabled = true;\\n    gameInterval = setInterval(() => {\\n        moveDown();\\n        drawBoard();\\n        drawPiece(currentPiece);\\n    }, 500);\\n}\\n\\n// End the game\\nfunction endGame() {\\n    clearInterval(gameInterval);\\n    isGameRunning = false;\\n    startButton.disabled = false;\\n    alert(`游戏结束！你的分数是：${score}`);\\n}\\n\\n// Event listeners\\nstartButton.addEventListener('click', () => {\\n    if (!isGameRunning) {\\n        startGame();\\n    }\\n});\\n\\ndocument.addEventListener('keydown', handleKeyPress);\"}"
      ]
     },
     "execution_count": 11,
     "metadata": {},
     "output_type": "execute_result"
    }
   ],
   "source": [
    "code_pipeline.code"
   ]
  },
  {
   "cell_type": "code",
   "execution_count": null,
   "metadata": {},
   "outputs": [],
   "source": [
    "out = code_pipeline.step(\"这个bug还是没有解决，有些俄罗斯方块掉落到我指定的位置后就消除了，并再次从上方掉落；我感觉是判定消除的代码有问题。\")\n",
    "out"
   ]
  },
  {
   "cell_type": "code",
   "execution_count": null,
   "metadata": {},
   "outputs": [],
   "source": [
    "out = code_pipeline.step(\"请将蛇的长度增加的快一些。\")\n",
    "out"
   ]
  },
  {
   "cell_type": "code",
   "execution_count": null,
   "metadata": {},
   "outputs": [],
   "source": [
    "code_pipeline.code_memory.memory, code_pipeline.code_memory.count_memory_tokens()"
   ]
  },
  {
   "cell_type": "code",
   "execution_count": null,
   "metadata": {},
   "outputs": [],
   "source": [
    "code_pipeline.revert()\n",
    "# code_pipeline.restart()\n",
    "code_pipeline.code, code_pipeline.code_memory.memory"
   ]
  },
  {
   "cell_type": "code",
   "execution_count": 4,
   "metadata": {},
   "outputs": [],
   "source": [
    "html = code_pipeline.code[\"index.html\"]\n",
    "css = code_pipeline.code[\"style.css\"]\n",
    "js = code_pipeline.code[\"script.js\"]\n",
    "\n",
    "for filename, content in [(\"index.html\", html), (\"style.css\", css), (\"script.js\", js)]:\n",
    "    with open(f'output/{filename}', 'w', encoding='utf-8') as f:\n",
    "        f.write(content)"
   ]
  },
  {
   "cell_type": "code",
   "execution_count": null,
   "metadata": {},
   "outputs": [],
   "source": [
    "# from modules.pipelines import ImagePipeline\n",
    "\n",
    "# image_pipeline = ImagePipeline(plan_pipeline.plan)\n",
    "# image_pipeline.image_gen_memory.memory"
   ]
  },
  {
   "cell_type": "code",
   "execution_count": null,
   "metadata": {},
   "outputs": [],
   "source": [
    "# out = image_pipeline.init_step()\n",
    "# out"
   ]
  },
  {
   "cell_type": "code",
   "execution_count": null,
   "metadata": {},
   "outputs": [],
   "source": [
    "# image_pipeline.image_gen_memory.memory, image_pipeline.image_gen_memory.count_memory_tokens()"
   ]
  },
  {
   "cell_type": "code",
   "execution_count": null,
   "metadata": {},
   "outputs": [],
   "source": [
    "# import base64\n",
    "# from IPython.display import Image\n",
    "\n",
    "# image_data = base64.b64decode(out['SnakeHead.png']['image'])\n",
    "# Image(image_data)"
   ]
  },
  {
   "cell_type": "code",
   "execution_count": null,
   "metadata": {},
   "outputs": [],
   "source": [
    "# image_data = base64.b64decode(out['SnakeBody.png']['image'])\n",
    "# Image(image_data)"
   ]
  },
  {
   "cell_type": "code",
   "execution_count": null,
   "metadata": {},
   "outputs": [],
   "source": [
    "# image_data = base64.b64decode(out['Food.png']['image'])\n",
    "# Image(image_data)"
   ]
  },
  {
   "cell_type": "code",
   "execution_count": null,
   "metadata": {},
   "outputs": [],
   "source": [
    "# image_data = base64.b64decode(out['Background.png']['image'])\n",
    "# Image(image_data)"
   ]
  },
  {
   "cell_type": "code",
   "execution_count": null,
   "metadata": {},
   "outputs": [],
   "source": [
    "# out = image_pipeline.step(\"背景图片中不需要出现蛇，只有草地和格子即可\")\n",
    "# out"
   ]
  },
  {
   "cell_type": "code",
   "execution_count": null,
   "metadata": {},
   "outputs": [],
   "source": [
    "# image_pipeline.image_gen_memory.memory, image_pipeline.image_gen_memory.count_memory_tokens()"
   ]
  },
  {
   "cell_type": "code",
   "execution_count": null,
   "metadata": {},
   "outputs": [],
   "source": [
    "# image_data = base64.b64decode(out['Background.png']['image'])\n",
    "# Image(image_data)"
   ]
  },
  {
   "cell_type": "code",
   "execution_count": null,
   "metadata": {},
   "outputs": [],
   "source": []
  }
 ],
 "metadata": {
  "kernelspec": {
   "display_name": "llamaindex",
   "language": "python",
   "name": "python3"
  },
  "language_info": {
   "codemirror_mode": {
    "name": "ipython",
    "version": 3
   },
   "file_extension": ".py",
   "mimetype": "text/x-python",
   "name": "python",
   "nbconvert_exporter": "python",
   "pygments_lexer": "ipython3",
   "version": "3.10.14"
  }
 },
 "nbformat": 4,
 "nbformat_minor": 2
}
